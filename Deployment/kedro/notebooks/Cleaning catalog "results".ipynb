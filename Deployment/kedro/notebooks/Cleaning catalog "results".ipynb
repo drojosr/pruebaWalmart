{
 "cells": [
  {
   "cell_type": "code",
   "execution_count": 2,
   "id": "176542da",
   "metadata": {},
   "outputs": [],
   "source": [
    "import pandas as pd"
   ]
  },
  {
   "cell_type": "markdown",
   "id": "0b15da3c",
   "metadata": {},
   "source": [
    "## Desarrollo de la solucion"
   ]
  },
  {
   "cell_type": "markdown",
   "id": "53c309df",
   "metadata": {},
   "source": [
    "### 1) Importar catálogos"
   ]
  },
  {
   "cell_type": "code",
   "execution_count": 3,
   "id": "825f98d1",
   "metadata": {},
   "outputs": [
    {
     "name": "stdout",
     "output_type": "stream",
     "text": [
      "2021-12-30 00:10:44,587 - kedro.io.data_catalog - INFO - Loading data from `consoles` (CSVDataSet)...\n",
      "2021-12-30 00:10:44,618 - kedro.io.data_catalog - INFO - Loading data from `result` (CSVDataSet)...\n"
     ]
    }
   ],
   "source": [
    "consoles = context.catalog.load(\"consoles\")\n",
    "result = context.catalog.load(\"result\")\n"
   ]
  },
  {
   "cell_type": "markdown",
   "id": "96e1321d",
   "metadata": {},
   "source": [
    "### 2) Validación de data"
   ]
  },
  {
   "cell_type": "markdown",
   "id": "bfe2d817",
   "metadata": {},
   "source": [
    "#### - Catálogo Consoles"
   ]
  },
  {
   "cell_type": "code",
   "execution_count": null,
   "id": "9965c23a",
   "metadata": {},
   "outputs": [],
   "source": [
    "consoles.head()"
   ]
  },
  {
   "cell_type": "code",
   "execution_count": null,
   "id": "9b2f357d",
   "metadata": {},
   "outputs": [],
   "source": [
    "consoles.shape"
   ]
  },
  {
   "cell_type": "code",
   "execution_count": null,
   "id": "d339c68b",
   "metadata": {},
   "outputs": [],
   "source": [
    "consoles['console'].sort_values().unique()"
   ]
  },
  {
   "cell_type": "markdown",
   "id": "84b42219",
   "metadata": {},
   "source": [
    "#### - Catálogo Result"
   ]
  },
  {
   "cell_type": "code",
   "execution_count": null,
   "id": "b42123c2",
   "metadata": {},
   "outputs": [],
   "source": [
    "result.head()"
   ]
  },
  {
   "cell_type": "code",
   "execution_count": null,
   "id": "20dc5044",
   "metadata": {},
   "outputs": [],
   "source": [
    "result.shape"
   ]
  },
  {
   "cell_type": "code",
   "execution_count": null,
   "id": "3ec09273",
   "metadata": {},
   "outputs": [],
   "source": [
    "result['console'].sort_values().unique()"
   ]
  },
  {
   "cell_type": "code",
   "execution_count": 4,
   "id": "fd92c60a",
   "metadata": {},
   "outputs": [
    {
     "data": {
      "text/html": [
       "<div>\n",
       "<style scoped>\n",
       "    .dataframe tbody tr th:only-of-type {\n",
       "        vertical-align: middle;\n",
       "    }\n",
       "\n",
       "    .dataframe tbody tr th {\n",
       "        vertical-align: top;\n",
       "    }\n",
       "\n",
       "    .dataframe thead th {\n",
       "        text-align: right;\n",
       "    }\n",
       "</style>\n",
       "<table border=\"1\" class=\"dataframe\">\n",
       "  <thead>\n",
       "    <tr style=\"text-align: right;\">\n",
       "      <th></th>\n",
       "      <th>metascore</th>\n",
       "      <th>name</th>\n",
       "      <th>console</th>\n",
       "      <th>userscore</th>\n",
       "      <th>date</th>\n",
       "    </tr>\n",
       "  </thead>\n",
       "  <tbody>\n",
       "    <tr>\n",
       "      <th>0</th>\n",
       "      <td>97</td>\n",
       "      <td>Grand Theft Auto V</td>\n",
       "      <td>PS3</td>\n",
       "      <td>8.3</td>\n",
       "      <td>Sep 17, 2013</td>\n",
       "    </tr>\n",
       "    <tr>\n",
       "      <th>1</th>\n",
       "      <td>97</td>\n",
       "      <td>Grand Theft Auto V</td>\n",
       "      <td>X360</td>\n",
       "      <td>8.3</td>\n",
       "      <td>Sep 17, 2013</td>\n",
       "    </tr>\n",
       "    <tr>\n",
       "      <th>2</th>\n",
       "      <td>95</td>\n",
       "      <td>The Last of Us</td>\n",
       "      <td>PS3</td>\n",
       "      <td>9.2</td>\n",
       "      <td>Jun 14, 2013</td>\n",
       "    </tr>\n",
       "    <tr>\n",
       "      <th>3</th>\n",
       "      <td>94</td>\n",
       "      <td>BioShock Infinite</td>\n",
       "      <td>PS3</td>\n",
       "      <td>8.5</td>\n",
       "      <td>Mar 26, 2013</td>\n",
       "    </tr>\n",
       "    <tr>\n",
       "      <th>4</th>\n",
       "      <td>94</td>\n",
       "      <td>BioShock Infinite</td>\n",
       "      <td>PC</td>\n",
       "      <td>8.6</td>\n",
       "      <td>Mar 25, 2013</td>\n",
       "    </tr>\n",
       "    <tr>\n",
       "      <th>...</th>\n",
       "      <td>...</td>\n",
       "      <td>...</td>\n",
       "      <td>...</td>\n",
       "      <td>...</td>\n",
       "      <td>...</td>\n",
       "    </tr>\n",
       "    <tr>\n",
       "      <th>15642</th>\n",
       "      <td>38</td>\n",
       "      <td>Touhou Kobuto V: Burst Battle</td>\n",
       "      <td>Switch</td>\n",
       "      <td>4.6</td>\n",
       "      <td>Oct 10, 2017</td>\n",
       "    </tr>\n",
       "    <tr>\n",
       "      <th>15643</th>\n",
       "      <td>38</td>\n",
       "      <td>Randall</td>\n",
       "      <td>PS4</td>\n",
       "      <td>2.1</td>\n",
       "      <td>Jun 6, 2017</td>\n",
       "    </tr>\n",
       "    <tr>\n",
       "      <th>15644</th>\n",
       "      <td>36</td>\n",
       "      <td>Tokyo Tattoo Girls</td>\n",
       "      <td>VITA</td>\n",
       "      <td>5.4</td>\n",
       "      <td>Nov 14, 2017</td>\n",
       "    </tr>\n",
       "    <tr>\n",
       "      <th>15645</th>\n",
       "      <td>26</td>\n",
       "      <td>Road Rage</td>\n",
       "      <td>PS4</td>\n",
       "      <td>2.5</td>\n",
       "      <td>Nov 14, 2017</td>\n",
       "    </tr>\n",
       "    <tr>\n",
       "      <th>15646</th>\n",
       "      <td>17</td>\n",
       "      <td>Vroom in the Night Sky</td>\n",
       "      <td>Switch</td>\n",
       "      <td>3.1</td>\n",
       "      <td>Apr 5, 2017</td>\n",
       "    </tr>\n",
       "  </tbody>\n",
       "</table>\n",
       "<p>15647 rows × 5 columns</p>\n",
       "</div>"
      ],
      "text/plain": [
       "       metascore                           name console userscore  \\\n",
       "0             97             Grand Theft Auto V     PS3       8.3   \n",
       "1             97             Grand Theft Auto V    X360       8.3   \n",
       "2             95                 The Last of Us     PS3       9.2   \n",
       "3             94              BioShock Infinite     PS3       8.5   \n",
       "4             94              BioShock Infinite      PC       8.6   \n",
       "...          ...                            ...     ...       ...   \n",
       "15642         38  Touhou Kobuto V: Burst Battle  Switch       4.6   \n",
       "15643         38                        Randall     PS4       2.1   \n",
       "15644         36             Tokyo Tattoo Girls    VITA       5.4   \n",
       "15645         26                      Road Rage     PS4       2.5   \n",
       "15646         17         Vroom in the Night Sky  Switch       3.1   \n",
       "\n",
       "               date  \n",
       "0      Sep 17, 2013  \n",
       "1      Sep 17, 2013  \n",
       "2      Jun 14, 2013  \n",
       "3      Mar 26, 2013  \n",
       "4      Mar 25, 2013  \n",
       "...             ...  \n",
       "15642  Oct 10, 2017  \n",
       "15643   Jun 6, 2017  \n",
       "15644  Nov 14, 2017  \n",
       "15645  Nov 14, 2017  \n",
       "15646   Apr 5, 2017  \n",
       "\n",
       "[15647 rows x 5 columns]"
      ]
     },
     "execution_count": 4,
     "metadata": {},
     "output_type": "execute_result"
    }
   ],
   "source": [
    "#Se debe eliminar los espacios en blanco de los registros ' PC' y ' VITA' para no ensuciar los análisis.\n",
    "result['console']=result['console'].str.strip()\n",
    "result"
   ]
  },
  {
   "cell_type": "code",
   "execution_count": 5,
   "id": "64fef943",
   "metadata": {},
   "outputs": [],
   "source": [
    "joindata = result.merge(consoles,how='inner')"
   ]
  },
  {
   "cell_type": "code",
   "execution_count": null,
   "id": "4fba9d56",
   "metadata": {},
   "outputs": [],
   "source": [
    "joindata"
   ]
  },
  {
   "cell_type": "code",
   "execution_count": null,
   "id": "fd7c2e17",
   "metadata": {},
   "outputs": [],
   "source": [
    "# Setear en 0\n",
    "joindata['userscore']= joindata['userscore'].replace(to_replace='tbd',value= 0)"
   ]
  },
  {
   "cell_type": "code",
   "execution_count": null,
   "id": "8fdfebf0",
   "metadata": {},
   "outputs": [],
   "source": [
    "result.sort_values(by=['metascore','userscore'],ascending= False).head(10).drop_duplicates(subset=['name'])"
   ]
  },
  {
   "cell_type": "code",
   "execution_count": null,
   "id": "29a5299c",
   "metadata": {},
   "outputs": [],
   "source": [
    "result.sort_values(by=['metascore','userscore'],ascending= True).head(10).drop_duplicates(subset=['name'])"
   ]
  },
  {
   "cell_type": "code",
   "execution_count": null,
   "id": "bfc3ea54",
   "metadata": {},
   "outputs": [],
   "source": [
    "joindata.sort_values(by=['metascore','userscore']).head(10).drop_duplicates(subset=['name'])"
   ]
  },
  {
   "cell_type": "code",
   "execution_count": null,
   "id": "3d7c1ff0",
   "metadata": {},
   "outputs": [],
   "source": [
    "pd.pivot_table(joindata, values = ('metascore'), index=['company','console','name'],sort=False).reset_index()"
   ]
  },
  {
   "cell_type": "code",
   "execution_count": null,
   "id": "69310d76",
   "metadata": {},
   "outputs": [],
   "source": [
    "df"
   ]
  },
  {
   "cell_type": "code",
   "execution_count": null,
   "id": "c70c92bf",
   "metadata": {},
   "outputs": [],
   "source": [
    "df.to_csv('output.csv', index=False)"
   ]
  },
  {
   "cell_type": "code",
   "execution_count": null,
   "id": "81fac692",
   "metadata": {},
   "outputs": [],
   "source": [
    "joindata.query(\"metascore==11\")"
   ]
  },
  {
   "cell_type": "code",
   "execution_count": null,
   "id": "ec4bb96b",
   "metadata": {},
   "outputs": [],
   "source": [
    "joindata[['metascore','name','console']].sort_values(by='metascore',ascending=True).query(\"console=='X360'\")"
   ]
  },
  {
   "cell_type": "code",
   "execution_count": 6,
   "id": "7d1c14a0",
   "metadata": {},
   "outputs": [
    {
     "data": {
      "text/html": [
       "<div>\n",
       "<style scoped>\n",
       "    .dataframe tbody tr th:only-of-type {\n",
       "        vertical-align: middle;\n",
       "    }\n",
       "\n",
       "    .dataframe tbody tr th {\n",
       "        vertical-align: top;\n",
       "    }\n",
       "\n",
       "    .dataframe thead th {\n",
       "        text-align: right;\n",
       "    }\n",
       "</style>\n",
       "<table border=\"1\" class=\"dataframe\">\n",
       "  <thead>\n",
       "    <tr style=\"text-align: right;\">\n",
       "      <th></th>\n",
       "      <th>company</th>\n",
       "      <th>console</th>\n",
       "      <th>metascore</th>\n",
       "      <th>name</th>\n",
       "    </tr>\n",
       "  </thead>\n",
       "  <tbody>\n",
       "    <tr>\n",
       "      <th>0</th>\n",
       "      <td>Microsoft</td>\n",
       "      <td>X360</td>\n",
       "      <td>17</td>\n",
       "      <td>Yaris</td>\n",
       "    </tr>\n",
       "    <tr>\n",
       "      <th>1</th>\n",
       "      <td>Microsoft</td>\n",
       "      <td>X360</td>\n",
       "      <td>17</td>\n",
       "      <td>Double Dragon II: Wander of the Dragons</td>\n",
       "    </tr>\n",
       "    <tr>\n",
       "      <th>2</th>\n",
       "      <td>Microsoft</td>\n",
       "      <td>X360</td>\n",
       "      <td>19</td>\n",
       "      <td>Ride to Hell: Retribution</td>\n",
       "    </tr>\n",
       "    <tr>\n",
       "      <th>3</th>\n",
       "      <td>Microsoft</td>\n",
       "      <td>X360</td>\n",
       "      <td>22</td>\n",
       "      <td>Fast &amp; Furious: Showdown</td>\n",
       "    </tr>\n",
       "    <tr>\n",
       "      <th>4</th>\n",
       "      <td>Microsoft</td>\n",
       "      <td>X360</td>\n",
       "      <td>25</td>\n",
       "      <td>NBA Unrivaled</td>\n",
       "    </tr>\n",
       "    <tr>\n",
       "      <th>...</th>\n",
       "      <td>...</td>\n",
       "      <td>...</td>\n",
       "      <td>...</td>\n",
       "      <td>...</td>\n",
       "    </tr>\n",
       "    <tr>\n",
       "      <th>185</th>\n",
       "      <td>Sony</td>\n",
       "      <td>VITA</td>\n",
       "      <td>44</td>\n",
       "      <td>Chronovolt</td>\n",
       "    </tr>\n",
       "    <tr>\n",
       "      <th>186</th>\n",
       "      <td>Sony</td>\n",
       "      <td>VITA</td>\n",
       "      <td>48</td>\n",
       "      <td>Valhalla Knights 3</td>\n",
       "    </tr>\n",
       "    <tr>\n",
       "      <th>187</th>\n",
       "      <td>Sony</td>\n",
       "      <td>VITA</td>\n",
       "      <td>48</td>\n",
       "      <td>The Muppets: Movie Adventures</td>\n",
       "    </tr>\n",
       "    <tr>\n",
       "      <th>188</th>\n",
       "      <td>Sony</td>\n",
       "      <td>VITA</td>\n",
       "      <td>49</td>\n",
       "      <td>Dungeon Hunter: Alliance</td>\n",
       "    </tr>\n",
       "    <tr>\n",
       "      <th>189</th>\n",
       "      <td>Sony</td>\n",
       "      <td>VITA</td>\n",
       "      <td>49</td>\n",
       "      <td>Asphalt: Injection</td>\n",
       "    </tr>\n",
       "  </tbody>\n",
       "</table>\n",
       "<p>190 rows × 4 columns</p>\n",
       "</div>"
      ],
      "text/plain": [
       "       company console  metascore                                     name\n",
       "0    Microsoft    X360         17                                    Yaris\n",
       "1    Microsoft    X360         17  Double Dragon II: Wander of the Dragons\n",
       "2    Microsoft    X360         19                Ride to Hell: Retribution\n",
       "3    Microsoft    X360         22                 Fast & Furious: Showdown\n",
       "4    Microsoft    X360         25                            NBA Unrivaled\n",
       "..         ...     ...        ...                                      ...\n",
       "185       Sony    VITA         44                               Chronovolt\n",
       "186       Sony    VITA         48                       Valhalla Knights 3\n",
       "187       Sony    VITA         48            The Muppets: Movie Adventures\n",
       "188       Sony    VITA         49                 Dungeon Hunter: Alliance\n",
       "189       Sony    VITA         49                       Asphalt: Injection\n",
       "\n",
       "[190 rows x 4 columns]"
      ]
     },
     "execution_count": 6,
     "metadata": {},
     "output_type": "execute_result"
    }
   ],
   "source": [
    "grouped =joindata.groupby(['company','console'])\n",
    "df=grouped.apply(lambda g: g.sort_values(by=\"metascore\",ascending=True).head(10))\n",
    "df2=df[['metascore','name']].reset_index()\n",
    "df2=df2[['company','console','metascore','name']]\n",
    "df2=pd.DataFrame(df2)\n",
    "df2"
   ]
  },
  {
   "cell_type": "code",
   "execution_count": 7,
   "id": "0eaaa7f6",
   "metadata": {},
   "outputs": [],
   "source": [
    "def top10WorstGamesCompany(resultConsoles):\n",
    "    \"\"\"\n",
    "        6)  Generar una función que reciba como input el catalogo \"resultConsoles\" \n",
    "        y genere un catalogo con los 10 peores juegos por todas las consolas.\n",
    "    \"\"\"    \n",
    "    grouped =resultConsoles.groupby(['company','console'])\n",
    "    df=grouped.apply(lambda g: g.sort_values(by=\"metascore\",ascending=True).head(10))\n",
    "    df2=df[['metascore','name']].reset_index()\n",
    "    df2=df2[['company','console','metascore','name']]\n",
    "    df2=pd.DataFrame(df2)\n",
    "    return df2"
   ]
  },
  {
   "cell_type": "code",
   "execution_count": 8,
   "id": "59dc4803",
   "metadata": {},
   "outputs": [
    {
     "data": {
      "text/html": [
       "<div>\n",
       "<style scoped>\n",
       "    .dataframe tbody tr th:only-of-type {\n",
       "        vertical-align: middle;\n",
       "    }\n",
       "\n",
       "    .dataframe tbody tr th {\n",
       "        vertical-align: top;\n",
       "    }\n",
       "\n",
       "    .dataframe thead th {\n",
       "        text-align: right;\n",
       "    }\n",
       "</style>\n",
       "<table border=\"1\" class=\"dataframe\">\n",
       "  <thead>\n",
       "    <tr style=\"text-align: right;\">\n",
       "      <th></th>\n",
       "      <th>company</th>\n",
       "      <th>console</th>\n",
       "      <th>metascore</th>\n",
       "      <th>name</th>\n",
       "    </tr>\n",
       "  </thead>\n",
       "  <tbody>\n",
       "    <tr>\n",
       "      <th>0</th>\n",
       "      <td>Microsoft</td>\n",
       "      <td>X360</td>\n",
       "      <td>17</td>\n",
       "      <td>Yaris</td>\n",
       "    </tr>\n",
       "    <tr>\n",
       "      <th>1</th>\n",
       "      <td>Microsoft</td>\n",
       "      <td>X360</td>\n",
       "      <td>17</td>\n",
       "      <td>Double Dragon II: Wander of the Dragons</td>\n",
       "    </tr>\n",
       "    <tr>\n",
       "      <th>2</th>\n",
       "      <td>Microsoft</td>\n",
       "      <td>X360</td>\n",
       "      <td>19</td>\n",
       "      <td>Ride to Hell: Retribution</td>\n",
       "    </tr>\n",
       "    <tr>\n",
       "      <th>3</th>\n",
       "      <td>Microsoft</td>\n",
       "      <td>X360</td>\n",
       "      <td>22</td>\n",
       "      <td>Fast &amp; Furious: Showdown</td>\n",
       "    </tr>\n",
       "    <tr>\n",
       "      <th>4</th>\n",
       "      <td>Microsoft</td>\n",
       "      <td>X360</td>\n",
       "      <td>25</td>\n",
       "      <td>NBA Unrivaled</td>\n",
       "    </tr>\n",
       "    <tr>\n",
       "      <th>...</th>\n",
       "      <td>...</td>\n",
       "      <td>...</td>\n",
       "      <td>...</td>\n",
       "      <td>...</td>\n",
       "    </tr>\n",
       "    <tr>\n",
       "      <th>185</th>\n",
       "      <td>Sony</td>\n",
       "      <td>VITA</td>\n",
       "      <td>44</td>\n",
       "      <td>Chronovolt</td>\n",
       "    </tr>\n",
       "    <tr>\n",
       "      <th>186</th>\n",
       "      <td>Sony</td>\n",
       "      <td>VITA</td>\n",
       "      <td>48</td>\n",
       "      <td>Valhalla Knights 3</td>\n",
       "    </tr>\n",
       "    <tr>\n",
       "      <th>187</th>\n",
       "      <td>Sony</td>\n",
       "      <td>VITA</td>\n",
       "      <td>48</td>\n",
       "      <td>The Muppets: Movie Adventures</td>\n",
       "    </tr>\n",
       "    <tr>\n",
       "      <th>188</th>\n",
       "      <td>Sony</td>\n",
       "      <td>VITA</td>\n",
       "      <td>49</td>\n",
       "      <td>Dungeon Hunter: Alliance</td>\n",
       "    </tr>\n",
       "    <tr>\n",
       "      <th>189</th>\n",
       "      <td>Sony</td>\n",
       "      <td>VITA</td>\n",
       "      <td>49</td>\n",
       "      <td>Asphalt: Injection</td>\n",
       "    </tr>\n",
       "  </tbody>\n",
       "</table>\n",
       "<p>190 rows × 4 columns</p>\n",
       "</div>"
      ],
      "text/plain": [
       "       company console  metascore                                     name\n",
       "0    Microsoft    X360         17                                    Yaris\n",
       "1    Microsoft    X360         17  Double Dragon II: Wander of the Dragons\n",
       "2    Microsoft    X360         19                Ride to Hell: Retribution\n",
       "3    Microsoft    X360         22                 Fast & Furious: Showdown\n",
       "4    Microsoft    X360         25                            NBA Unrivaled\n",
       "..         ...     ...        ...                                      ...\n",
       "185       Sony    VITA         44                               Chronovolt\n",
       "186       Sony    VITA         48                       Valhalla Knights 3\n",
       "187       Sony    VITA         48            The Muppets: Movie Adventures\n",
       "188       Sony    VITA         49                 Dungeon Hunter: Alliance\n",
       "189       Sony    VITA         49                       Asphalt: Injection\n",
       "\n",
       "[190 rows x 4 columns]"
      ]
     },
     "execution_count": 8,
     "metadata": {},
     "output_type": "execute_result"
    }
   ],
   "source": [
    "top10WorstGamesCompany(joindata)"
   ]
  }
 ],
 "metadata": {
  "kernelspec": {
   "display_name": "walmart",
   "language": "python",
   "name": "python3"
  },
  "language_info": {
   "codemirror_mode": {
    "name": "ipython",
    "version": 3
   },
   "file_extension": ".py",
   "mimetype": "text/x-python",
   "name": "python",
   "nbconvert_exporter": "python",
   "pygments_lexer": "ipython3",
   "version": "3.8.11"
  }
 },
 "nbformat": 4,
 "nbformat_minor": 5
}
